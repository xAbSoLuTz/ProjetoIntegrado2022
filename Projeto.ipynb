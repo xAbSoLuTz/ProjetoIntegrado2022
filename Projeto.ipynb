{
  "nbformat": 4,
  "nbformat_minor": 0,
  "metadata": {
    "colab": {
      "name": "Projeto.ipynb",
      "provenance": [],
      "collapsed_sections": [
        "6rjtnXNFNeFV",
        "vXHaZjqOaaa1"
      ]
    },
    "kernelspec": {
      "name": "python3",
      "display_name": "Python 3"
    },
    "language_info": {
      "name": "python"
    }
  },
  "cells": [
    {
      "cell_type": "markdown",
      "source": [
        "# Bibliotecas Utilizadas\n",
        "\n",
        "__NumPy__\n",
        "\n",
        "NumPy é uma biblioteca usada para realizar operações em Arrays Multidimensionais.\n",
        "\n",
        "__Pandas__\n",
        "\n",
        "A biblioteca Pandas é utilizada para análise de dados.\n",
        "\n",
        "__Matplotlib__\n",
        "\n",
        "Matplotlib é uma biblioteca para criação de gráficos e visualização de dados em geral.\n",
        "\n",
        "__Seaborn__\n",
        "\n",
        "A biblioteca Seaborn trabalha em cima do matplotlib e ajuda a melhorar o visual dos gráficos.\n",
        "\n",
        "__sklearn-learn__\n",
        "\n",
        "É uma biblioteca desenvolvida especificamente para aplicação prática de machine learning. Esta biblioteca dispõe de ferramentas simples e eficientes para análise preditiva de dados."
      ],
      "metadata": {
        "id": "THyH3TrFmRPv"
      }
    },
    {
      "cell_type": "code",
      "execution_count": 18,
      "metadata": {
        "colab": {
          "base_uri": "https://localhost:8080/"
        },
        "id": "l2FMe-u4aeAA",
        "outputId": "85ebc768-2122-4ff9-f60d-0f5ac97310b1"
      },
      "outputs": [
        {
          "output_type": "execute_result",
          "data": {
            "text/plain": [
              "Index(['tipo', 'estado', 'ano', 'aeronave_liberada', 'status_investigacao',\n",
              "       'aeronaves_envolvidas', 'ocorrencia_saida_pista', 'aeronave_tipo',\n",
              "       'aeronave_fabricante', 'motor_tipo', 'aeronave_assentos',\n",
              "       'aeronave_ano_fabricacao', 'aeronave_pais_fabricante',\n",
              "       'aeronave_nivel_dano'],\n",
              "      dtype='object')"
            ]
          },
          "metadata": {},
          "execution_count": 18
        }
      ],
      "source": [
        "# Importação das bibliotecas\n",
        "import pandas as pd\n",
        "import numpy as np\n",
        "import matplotlib.pyplot as plt\n",
        "import seaborn as sns\n",
        "from sklearn.linear_model import LinearRegression\n",
        "# Mostra os gráficos, suprimindo mensagens\n",
        "%matplotlib inline \n",
        "\n",
        "# Carrega dados\n",
        "df = pd.read_csv('https://raw.githubusercontent.com/xAbSoLuTz/ProjetoIntegrado2022/main/dados/ocorrencias_cenipa.csv')\n",
        "\n",
        "# Dropando as colunas que não vão ser utilizadas\n",
        "df.drop(['data'], axis=1, inplace=True)\n",
        "df.drop(['hora'], axis=1, inplace=True)\n",
        "df.drop(['codigo'], axis=1, inplace=True)\n",
        "df.drop(['descricao'], axis=1, inplace=True)\n",
        "df.drop(['cidade'], axis=1, inplace=True)\n",
        "df.drop(['aeronave_motor_quantidade'], axis=1, inplace=True)\n",
        "df.drop(['aeronave_fase_operacao'], axis=1, inplace=True)\n",
        "\n",
        "\n",
        "df.columns"
      ]
    },
    {
      "cell_type": "markdown",
      "source": [
        "```\n",
        "# Mostrando as colunas que vão ser utilizadas\n",
        "```\n"
      ],
      "metadata": {
        "id": "PoqzHBH_LLhA"
      }
    },
    {
      "cell_type": "code",
      "source": [
        "col_estado = df['estado']\n",
        "col_estado.value_counts()"
      ],
      "metadata": {
        "colab": {
          "base_uri": "https://localhost:8080/"
        },
        "id": "ZzSSvXorygOY",
        "outputId": "0a78ea78-bf1a-414e-cd49-0bfcbf3e40ad"
      },
      "execution_count": 19,
      "outputs": [
        {
          "output_type": "execute_result",
          "data": {
            "text/plain": [
              "SP    1239\n",
              "MG     482\n",
              "RJ     480\n",
              "PR     441\n",
              "RS     334\n",
              "GO     286\n",
              "PA     263\n",
              "MT     255\n",
              "AM     217\n",
              "BA     200\n",
              "SC     166\n",
              "MS     132\n",
              "DF     129\n",
              "PE      90\n",
              "CE      78\n",
              "ES      70\n",
              "MA      68\n",
              "AC      54\n",
              "RR      49\n",
              "TO      46\n",
              "PI      36\n",
              "AL      30\n",
              "RO      30\n",
              "PB      23\n",
              "SE      21\n",
              "RN      14\n",
              "AP       9\n",
              "Name: estado, dtype: int64"
            ]
          },
          "metadata": {},
          "execution_count": 19
        }
      ]
    },
    {
      "cell_type": "markdown",
      "source": [
        "```\n",
        "# Número de acidentes por estado\n",
        "```"
      ],
      "metadata": {
        "id": "pNcuHC45K9YZ"
      }
    },
    {
      "cell_type": "code",
      "source": [
        "len(df['tipo'].unique())"
      ],
      "metadata": {
        "colab": {
          "base_uri": "https://localhost:8080/"
        },
        "id": "fDEW_7RVzJsi",
        "outputId": "59fd9d74-5454-4d41-a365-a68122ef4bb1"
      },
      "execution_count": 20,
      "outputs": [
        {
          "output_type": "execute_result",
          "data": {
            "text/plain": [
              "3"
            ]
          },
          "metadata": {},
          "execution_count": 20
        }
      ]
    },
    {
      "cell_type": "markdown",
      "source": [
        "```\n",
        "# Quantidade de tipos de acidentes diferentes que ocorreram\n",
        "```\n",
        "\n"
      ],
      "metadata": {
        "id": "jv_F4FaKIQfF"
      }
    },
    {
      "cell_type": "code",
      "source": [
        "# Criando o campo região para deixar melhor visivel\n",
        "nordeste = ['AL', 'BA', 'CE', 'MA', 'PB', 'PE', 'PI', 'RN', 'SE']\n",
        "norte = ['AM', 'RR', 'AP', 'PA', 'TO', 'RO', 'AC']\n",
        "centroOeste = ['MT', 'MS', 'GO', 'DF']\n",
        "sudeste = ['SP', 'RJ', 'ES', 'MG']\n",
        "sul =  ['PR', 'RS', 'SC']\n",
        "\n",
        "# Baseado no array \"condicoes\" vai ser inserido o valor do array \"escolhas\" na nova coluna \"regiao\"\n",
        "condicoes = [\n",
        "    (df['estado'].isin(nordeste)),\n",
        "    (df['estado'].isin(norte)),\n",
        "    (df['estado'].isin(centroOeste)),\n",
        "    (df['estado'].isin(sudeste)),\n",
        "    (df['estado'].isin(sul))\n",
        "  ]\n",
        "escolhas = ['Nordeste', 'Norte', 'Centro Oeste', 'Sudeste', 'Sul']\n",
        "df['regiao'] = np.select(condicoes, escolhas)"
      ],
      "metadata": {
        "id": "UvcDMgUH37iI"
      },
      "execution_count": 21,
      "outputs": []
    },
    {
      "cell_type": "markdown",
      "source": [
        "# Regressão linear com o número de assentos"
      ],
      "metadata": {
        "id": "DfXWgo-ZJrZg"
      }
    },
    {
      "cell_type": "code",
      "source": [
        "X = df[[\"ano\"]]\n",
        "y = df[[\"aeronave_assentos\"]]\n",
        "\n",
        "regressor = LinearRegression()\n",
        "regressor.fit(X, y)\n",
        "\n",
        "y_pred = regressor.predict(X)\n",
        "\n",
        "plt.scatter(X, y, color = 'red')\n",
        "plt.plot(X, regressor.predict(X), color = 'blue')\n",
        "plt.title('Assentos x Ano')\n",
        "plt.xlabel('Ano')\n",
        "plt.ylabel('Assentos')\n",
        "plt.show()"
      ],
      "metadata": {
        "id": "XA0vJow7cYHf",
        "colab": {
          "base_uri": "https://localhost:8080/",
          "height": 295
        },
        "outputId": "4b13cf45-7e8f-425c-ee47-9f643202462f"
      },
      "execution_count": 66,
      "outputs": [
        {
          "output_type": "display_data",
          "data": {
            "text/plain": [
              "<Figure size 432x288 with 1 Axes>"
            ],
            "image/png": "[encoded data removed]"
          },
          "metadata": {
            "needs_background": "light"
          }
        }
      ]
    },
    {
      "cell_type": "code",
      "source": [
        "X = df[[\"aeronaves_envolvidas\"]]\n",
        "y = df[[\"aeronave_assentos\"]]\n",
        "\n",
        "regressor = LinearRegression()\n",
        "regressor.fit(X, y)\n",
        "\n",
        "y_pred = regressor.predict(X)\n",
        "\n",
        "plt.scatter(X, y, color = 'red')\n",
        "plt.plot(X, regressor.predict(X), color = 'blue')\n",
        "plt.title('Assentos x Aeronaves envolvidas')\n",
        "plt.xlabel('Aeronaves envolvidas')\n",
        "plt.ylabel('Assentos')\n",
        "plt.show()"
      ],
      "metadata": {
        "colab": {
          "base_uri": "https://localhost:8080/",
          "height": 295
        },
        "id": "M4sDVrW-Yyi3",
        "outputId": "53aac082-c686-42e4-a9bb-c46ea4b2e08a"
      },
      "execution_count": 65,
      "outputs": [
        {
          "output_type": "display_data",
          "data": {
            "text/plain": [
              "<Figure size 432x288 with 1 Axes>"
            ],
            "image/png": "[encoded data removed]"
          },
          "metadata": {
            "needs_background": "light"
          }
        }
      ]
    },
    {
      "cell_type": "code",
      "source": [
        "df.drop(df[df['aeronave_ano_fabricacao'] == 0].index, inplace = True)\n",
        "df.drop(df[df['aeronave_ano_fabricacao'] == 9999].index, inplace = True)\n",
        "\n",
        "X = df[[\"aeronave_ano_fabricacao\"]]\n",
        "y = df[[\"aeronave_assentos\"]]\n",
        "\n",
        "regressor = LinearRegression()\n",
        "regressor.fit(X, y)\n",
        "\n",
        "y_pred = regressor.predict(X)\n",
        "\n",
        "plt.scatter(X, y, color = 'red')\n",
        "plt.plot(X, regressor.predict(X), color = 'blue')\n",
        "plt.title('Assentos vs Ano de Fabricação')\n",
        "plt.xlabel('Ano de Fabricação')\n",
        "plt.ylabel('Assentos')\n",
        "plt.show()"
      ],
      "metadata": {
        "colab": {
          "base_uri": "https://localhost:8080/",
          "height": 295
        },
        "id": "BHaGGGl1ZDno",
        "outputId": "138c9657-b7e2-4929-aafe-2ef0354d07ea"
      },
      "execution_count": 64,
      "outputs": [
        {
          "output_type": "display_data",
          "data": {
            "text/plain": [
              "<Figure size 432x288 with 1 Axes>"
            ],
            "image/png": "[encoded data removed]"
          },
          "metadata": {
            "needs_background": "light"
          }
        }
      ]
    },
    {
      "cell_type": "markdown",
      "source": [
        "Como pode ser visto nos gráficos, o eixo X representa no primeiro gráfico o ano, no segundo a quantidade de aeronaves envolvidas e no último o ano de fabricação que se envolveram em acidentes, enquanto o eixo Y sempre representa o número de assentos das aeronaves.\n",
        "\n",
        "É perceptível que o número de assentos vá crescendo ao passar do tempo, já que pelo motivo das aeronaves terem a função principal de deslocamento rápido entre grandes distâncias e que fiquem cada vez maiores para suportar mais passageiros para viagens. Além disso é possível perceber que com isso o número de acidentes acabe aumentando devido ao maior número de aeronaves no céu.\n",
        "\n",
        "Outra coisa interessante de se notar com relação ao número de assentos é que quanto menor o porte maior é a quantidade de acidentes."
      ],
      "metadata": {
        "id": "dDuaWLTvgMGj"
      }
    },
    {
      "cell_type": "markdown",
      "source": [
        "# Demonstração de Dados da Estatística "
      ],
      "metadata": {
        "id": "6rjtnXNFNeFV"
      }
    },
    {
      "cell_type": "markdown",
      "source": [
        "__Média: É a soma de todos os números do conjunto de dados e então dividindo o resultado pelo número de valores do conjunto.__"
      ],
      "metadata": {
        "id": "7-nSmlnQbLsH"
      }
    },
    {
      "cell_type": "code",
      "source": [
        "print('Média de acidentes por ano: ', round(len(df)/10, 2))"
      ],
      "metadata": {
        "colab": {
          "base_uri": "https://localhost:8080/"
        },
        "id": "XEVvFHI_gdoF",
        "outputId": "ad6c879e-b4e6-4ec3-d1d5-06eeb827c5af"
      },
      "execution_count": 6,
      "outputs": [
        {
          "output_type": "stream",
          "name": "stdout",
          "text": [
            "Média de acidentes por ano:  524.2\n"
          ]
        }
      ]
    },
    {
      "cell_type": "markdown",
      "source": [
        "__Moda: É aquele resultado mais recorrente no conjunto, ou seja, com maior frequência absoluta.__"
      ],
      "metadata": {
        "id": "GBMJMANcbOip"
      }
    },
    {
      "cell_type": "code",
      "source": [
        "modaEstado = df['estado'].mode().to_string(index=False)\n",
        "modaAno = df['ano'].mode().to_string(index=False)\n",
        "print('Estado que mais teve acidentes: ', modaEstado)\n",
        "print('Ano que mais teve acidentes: ', modaAno)"
      ],
      "metadata": {
        "colab": {
          "base_uri": "https://localhost:8080/"
        },
        "id": "HMbJ7YO4beFf",
        "outputId": "6733488b-e60b-4735-daee-ce6ccbcffe54"
      },
      "execution_count": 7,
      "outputs": [
        {
          "output_type": "stream",
          "name": "stdout",
          "text": [
            "Estado que mais teve acidentes:  SP\n",
            "Ano que mais teve acidentes:  2013\n"
          ]
        }
      ]
    },
    {
      "cell_type": "markdown",
      "source": [
        "__Mediana: É o valor que ocupa a posição central dos valores quando organizamos esses dados em ordem.__"
      ],
      "metadata": {
        "id": "4dl4ukBKbQFU"
      }
    },
    {
      "cell_type": "code",
      "source": [
        "print('Mediana do ano de fabricação: ', int(df['aeronave_ano_fabricacao'].median()))"
      ],
      "metadata": {
        "colab": {
          "base_uri": "https://localhost:8080/"
        },
        "id": "HjMgCE51eFOI",
        "outputId": "7e0a0cc0-08b8-4439-8d1b-7ae1586aa6ec"
      },
      "execution_count": 8,
      "outputs": [
        {
          "output_type": "stream",
          "name": "stdout",
          "text": [
            "Mediana do ano de fabricação:  1992\n"
          ]
        }
      ]
    },
    {
      "cell_type": "markdown",
      "source": [
        "__Desvio Padrão: É uma medida que expressa o grau de dispersão de um conjunto de dados. Ou seja, o desvio padrão indica o quanto um conjunto de dados é uniforme. Quanto mais próximo de 0 for o desvio padrão, mais homogêneo são os dados.__"
      ],
      "metadata": {
        "id": "LFGUNIFXbQTF"
      }
    },
    {
      "cell_type": "code",
      "source": [
        "print('Desvio Padrão do Ano: ', df['ano'].std())\n",
        "print('Desvio Padrão do número de assentos: ', df['aeronave_assentos'].std())"
      ],
      "metadata": {
        "colab": {
          "base_uri": "https://localhost:8080/"
        },
        "id": "H1578MpGcJEq",
        "outputId": "1d402e39-8080-417e-cdcd-6bc96edb1714"
      },
      "execution_count": 9,
      "outputs": [
        {
          "output_type": "stream",
          "name": "stdout",
          "text": [
            "Desvio Padrão do Ano:  2.8497500882703446\n",
            "Desvio Padrão do número de assentos:  54.528085458047016\n"
          ]
        }
      ]
    },
    {
      "cell_type": "markdown",
      "source": [
        "# Ocorrências"
      ],
      "metadata": {
        "id": "vXHaZjqOaaa1"
      }
    },
    {
      "cell_type": "markdown",
      "source": [
        "__Tipo__"
      ],
      "metadata": {
        "id": "IAIPj698hqcr"
      }
    },
    {
      "cell_type": "code",
      "source": [
        "# Visualizando as porcentagens dos tipos de acidentes\n",
        "plt.style.use(\"ggplot\")\n",
        "df['tipo'].value_counts().plot(kind='pie',autopct='%1.2f%%', label=\"Tipo de Acidente\" ,figsize=(8, 6))\n",
        "plt.show()"
      ],
      "metadata": {
        "colab": {
          "base_uri": "https://localhost:8080/",
          "height": 357
        },
        "id": "iU7WSw5FagUR",
        "outputId": "50391892-65a2-4297-8702-825926ac9634"
      },
      "execution_count": null,
      "outputs": [
        {
          "output_type": "display_data",
          "data": {
            "text/plain": [
              "<Figure size 576x432 with 1 Axes>"
            ],
            "image/png": "[encoded data removed]"
          },
          "metadata": {}
        }
      ]
    },
    {
      "cell_type": "markdown",
      "source": [
        "__Dos acidentes que ocorrem no Brasil o tipo \"incidente\" domina com mais da metade da porcentagem total__"
      ],
      "metadata": {
        "id": "97kQLpXowCRc"
      }
    },
    {
      "cell_type": "markdown",
      "source": [
        "__Como pode ser visto, a maior parte dos tipos de acidentes é composta por incidentes tendo 55,1%, onde o incidente é um erro que não causa lesão__"
      ],
      "metadata": {
        "id": "YvNpuvYOKIIO"
      }
    },
    {
      "cell_type": "markdown",
      "source": [
        "__Tipo x Região__"
      ],
      "metadata": {
        "id": "kNFEnyaFl7pG"
      }
    },
    {
      "cell_type": "code",
      "source": [
        "regiaoTipo = df.value_counts([\"regiao\", \"tipo\"]).sort_index()\n",
        "\n",
        "# Tamanho\n",
        "fig = plt.subplots(figsize =(14, 6))\n",
        "barWidth = 0.25\n",
        "\n",
        "# Colocando os valores em arrays\n",
        "incidente = [regiaoTipo[1], regiaoTipo[4], regiaoTipo[7], regiaoTipo[10], regiaoTipo[13]]\n",
        "incidenteGrave = [regiaoTipo[2], regiaoTipo[5], regiaoTipo[8], regiaoTipo[11], regiaoTipo[14]]\n",
        "acidente = [regiaoTipo[0], regiaoTipo[3], regiaoTipo[6], regiaoTipo[9], regiaoTipo[12]]\n",
        " \n",
        "# Colocando as posições das barras do eixo X\n",
        "br1 = np.arange(len(incidente))\n",
        "br2 = [x + barWidth for x in br1]\n",
        "br3 = [x + barWidth for x in br2]\n",
        "\n",
        "# Definindo os valores e customizando a visualização\n",
        "plt.bar(br1, incidente, color ='r', width = barWidth, label ='INCIDENTE')\n",
        "plt.bar(br2, incidenteGrave, color ='purple', width = barWidth, label ='INCIDENTE GRAVE')\n",
        "plt.bar(br3, acidente, color ='b', width = barWidth, label ='ACIDENTE')\n",
        "\n",
        "# Adicionando Xticks\n",
        "plt.xlabel('Região x Tipo', fontweight ='bold', fontsize = 15)\n",
        "plt.ylabel('Número de Acidentes', fontweight ='bold', fontsize = 15)\n",
        "plt.xticks([r + barWidth for r in range(len(incidente))], sorted(df['regiao'].unique()))\n",
        "\n",
        "plt.legend()\n",
        "plt.show()"
      ],
      "metadata": {
        "colab": {
          "base_uri": "https://localhost:8080/",
          "height": 393
        },
        "id": "ti6KLfG8mFMQ",
        "outputId": "cd6af1c9-d0a5-498f-aba6-c9bc3a273904"
      },
      "execution_count": null,
      "outputs": [
        {
          "output_type": "display_data",
          "data": {
            "text/plain": [
              "<Figure size 1008x432 with 1 Axes>"
            ],
            "image/png": "[encoded data removed]"
          },
          "metadata": {
            "needs_background": "light"
          }
        }
      ]
    },
    {
      "cell_type": "markdown",
      "source": [
        "__Como da para ver no gráfico a maioria dos acidentes que ocorreram no Brasil entre 2010 e 2019 ocorreram no estado do sudeste, envolvendo principalmente o tipo \"incidente\"__"
      ],
      "metadata": {
        "id": "YxKSJSH3vvde"
      }
    },
    {
      "cell_type": "markdown",
      "source": [
        "__Status das aeronaves__"
      ],
      "metadata": {
        "id": "-Gk98c_rhxjK"
      }
    },
    {
      "cell_type": "code",
      "source": [
        "df['aeronave_liberada'].value_counts().plot(kind='barh', title=\"Status da liberação da aeronave\" ,figsize=(8, 6))"
      ],
      "metadata": {
        "colab": {
          "base_uri": "https://localhost:8080/",
          "height": 408
        },
        "id": "KVTpUCMgJ7Na",
        "outputId": "1c26524c-9e50-4065-bb42-e7da248ddb67"
      },
      "execution_count": null,
      "outputs": [
        {
          "output_type": "execute_result",
          "data": {
            "text/plain": [
              "<matplotlib.axes._subplots.AxesSubplot at 0x7f69b6431750>"
            ]
          },
          "metadata": {},
          "execution_count": 138
        },
        {
          "output_type": "display_data",
          "data": {
            "text/plain": [
              "<Figure size 576x432 with 1 Axes>"
            ],
            "image/png": "[encoded data removed]"
          },
          "metadata": {}
        }
      ]
    },
    {
      "cell_type": "markdown",
      "source": [
        "__Como pode ser notado desses acidentes a maioria ou foi liberada para voo ou ficaram com o status de indeterminado__"
      ],
      "metadata": {
        "id": "kW6OhnG3vZ9L"
      }
    },
    {
      "cell_type": "markdown",
      "source": [
        "__Status das Investigações dos Acidentes__"
      ],
      "metadata": {
        "id": "TLjKrci7jCCm"
      }
    },
    {
      "cell_type": "code",
      "source": [
        "df['status_investigacao'].value_counts().plot(kind='bar', title=\"Status da investigação do acidente\" ,figsize=(8, 6))"
      ],
      "metadata": {
        "id": "EVULLgaDjOaP",
        "colab": {
          "base_uri": "https://localhost:8080/",
          "height": 481
        },
        "outputId": "922a25cb-ea0c-4016-b054-0d85ff73822a"
      },
      "execution_count": 33,
      "outputs": [
        {
          "output_type": "execute_result",
          "data": {
            "text/plain": [
              "<matplotlib.axes._subplots.AxesSubplot at 0x7f325a4cbe50>"
            ]
          },
          "metadata": {},
          "execution_count": 33
        },
        {
          "output_type": "display_data",
          "data": {
            "text/plain": [
              "<Figure size 576x432 with 1 Axes>"
            ],
            "image/png": "[encoded data removed]"
          },
          "metadata": {
            "needs_background": "light"
          }
        }
      ]
    },
    {
      "cell_type": "markdown",
      "source": [
        "__É notado que quase todos os acidentes que ocorreram tiveram suas investigações concluidas.__"
      ],
      "metadata": {
        "id": "vrlbvkg4vAOy"
      }
    },
    {
      "cell_type": "markdown",
      "source": [
        "__Quantidades de aeronaves envolvidas por acidente__"
      ],
      "metadata": {
        "id": "_xIKwIrKjKV5"
      }
    },
    {
      "cell_type": "code",
      "source": [
        "df['aeronaves_envolvidas'].value_counts().plot(kind='barh', title=\"Aeronaves envolvidas\" ,figsize=(8, 6))\n",
        "dpAeronavesEnvolvidas = str(df['aeronaves_envolvidas'].std())\n",
        "plt.text(2800, 2.0, 'Desvio Padrão: ' + dpAeronavesEnvolvidas)"
      ],
      "metadata": {
        "id": "4ZdGK5IOjZzd",
        "colab": {
          "base_uri": "https://localhost:8080/",
          "height": 407
        },
        "outputId": "f1ff31b6-c6e9-46db-81d3-a5fe23bc51a2"
      },
      "execution_count": 32,
      "outputs": [
        {
          "output_type": "execute_result",
          "data": {
            "text/plain": [
              "Text(2800, 2.0, 'Desvio Padrão: 0.11159345431706039')"
            ]
          },
          "metadata": {},
          "execution_count": 32
        },
        {
          "output_type": "display_data",
          "data": {
            "text/plain": [
              "<Figure size 576x432 with 1 Axes>"
            ],
            "image/png": "[encoded data removed]"
          },
          "metadata": {
            "needs_background": "light"
          }
        }
      ]
    },
    {
      "cell_type": "markdown",
      "source": [
        "__Como pode ser notado a grande maioria dos acidentes que ocorrem envolve apenas uma aeronave.\n",
        "Vale notar que o desvio padrão chega perto de 0 de tão constante é o resultado de apenas uma aeronave por acidente__"
      ],
      "metadata": {
        "id": "n9fISjJysVPe"
      }
    },
    {
      "cell_type": "markdown",
      "source": [
        "__BoxPlot do tipo de aeronave x ano__"
      ],
      "metadata": {
        "id": "YuTJMvNwjvpq"
      }
    },
    {
      "cell_type": "code",
      "source": [
        "aeronave_tipo = df[\"aeronave_tipo\"]\n",
        "ano = df[\"ano\"]\n",
        "sns.boxplot(x=ano, y=aeronave_tipo)\n",
        "plt.show()"
      ],
      "metadata": {
        "colab": {
          "base_uri": "https://localhost:8080/",
          "height": 279
        },
        "id": "i5sp4lGMj2zQ",
        "outputId": "f5a71825-0836-4c87-abae-21272ddf5cf8"
      },
      "execution_count": 44,
      "outputs": [
        {
          "output_type": "display_data",
          "data": {
            "text/plain": [
              "<Figure size 432x288 with 1 Axes>"
            ],
            "image/png": "[encoded data removed]"
          },
          "metadata": {
            "needs_background": "light"
          }
        }
      ]
    },
    {
      "cell_type": "markdown",
      "source": [
        "# Conclusão:\n",
        "\n",
        "O principal objetivo desse projeto foi demonstrar o conhecimento obtido através do estudo para poder elaborar e construir Gráficos e estatistícas sobre acidentes aerios ocorridos no Brasil entre 2010 e 2019.\n",
        "\n",
        "Além de abordar diversos assuntos diferentes e utilizar várias bibliotecas foi abordada muitas ocorrências."
      ],
      "metadata": {
        "id": "BSungRkTdgwj"
      }
    },
    {
      "cell_type": "markdown",
      "source": [
        "# Referências Bibliográficas:\n",
        "\n",
        "__https://didatica.tech/a-biblioteca-scikit-learn-pyhton-para-machine-learning__\n",
        "\n",
        "__https://harve.com.br/blog/programacao-python-blog/numpy-python-o-que-e-vantagens-e-tutorial-inicial/__\n",
        "\n",
        "__https://harve.com.br/blog/programacao-python-blog/pandas-python-vantagens-e-como-comecar/__\n",
        "\n",
        "__https://docs.python.org/pt-br/3/library/statistics.html#statistics.mean__\n",
        "\n",
        "__https://www.todamateria.com.br/desvio-padrao/__\n",
        "\n",
        "__https://stackoverflow.com/questions/35523635/extract-values-in-pandas-value-counts__\n",
        "\n",
        "__https://pandas.pydata.org/docs/reference/api/pandas.DataFrame.plot.bar.html__\n",
        "\n",
        "__https://github.com/rochawennis/Projeto_Integrador_2021/blob/main/Acidentes_Aereos_Ocorridos_no_Brasil_de_2010_a_2019.ipynb__"
      ],
      "metadata": {
        "id": "x9dBAYi2cvEn"
      }
    }
  ]
}